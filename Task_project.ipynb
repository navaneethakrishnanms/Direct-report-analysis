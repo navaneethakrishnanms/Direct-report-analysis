{
  "cells": [
    {
      "cell_type": "markdown",
      "metadata": {
        "id": "aM8GELykhpfR"
      },
      "source": []
    },
    {
      "cell_type": "code",
      "execution_count": 1,
      "metadata": {
        "colab": {
          "base_uri": "https://localhost:8080/"
        },
        "id": "KotXNf9NMjzR",
        "outputId": "566fa292-0174-4563-f670-c8b0d2a7fb7d"
      },
      "outputs": [
        {
          "name": "stdout",
          "output_type": "stream",
          "text": [
            "   employee_id                  position  managers_id\n",
            "0         1001         Analytics Manager       1013.0\n",
            "1         1002             Data Engineer       1007.0\n",
            "2         1003             Data Engineer       1001.0\n",
            "3         1004        Database Developer       1017.0\n",
            "4         1005              Data Analyst       1001.0\n",
            "5         1006             Data Engineer       1017.0\n",
            "6         1007  Data Engineering Manager       1013.0\n",
            "7         1008        Database Developer       1001.0\n",
            "8         1009             Data Engineer       1007.0\n",
            "9         1010            Data Scientist       1017.0\n",
            "Shape of the data: (100, 3)\n",
            "Column names: Index(['employee_id', 'position', 'managers_id'], dtype='object')\n",
            "Data types of each column:\n",
            "employee_id      int64\n",
            "position        object\n",
            "managers_id    float64\n",
            "dtype: object\n",
            "\n",
            "null values: employee_id    0\n",
            "position       0\n",
            "managers_id    4\n",
            "dtype: int64\n",
            "Duplicates: 0\n",
            "\n",
            "       employee_id  managers_id\n",
            "count   100.000000    96.000000\n",
            "mean   1845.110000  1009.729167\n",
            "std     407.056691     6.122399\n",
            "min    1001.000000  1001.000000\n",
            "25%    2006.750000  1007.000000\n",
            "50%    2031.500000  1007.000000\n",
            "75%    2056.250000  1017.000000\n",
            "max    2081.000000  1017.000000\n"
          ]
        }
      ],
      "source": [
        "\n",
        "import numpy as np\n",
        "import pandas as pd\n",
        "df=pd.read_csv('direct_reports_dataset.csv')\n",
        "print(df[:10])\n",
        "print(\"Shape of the data:\",df.shape)\n",
        "print(\"Column names:\",df.columns)\n",
        "print(\"Data types of each column:\")\n",
        "print(df.dtypes)\n",
        "print()\n",
        "print(\"null values:\",df.isnull().sum())\n",
        "print(f\"Duplicates: {df.duplicated().sum()}\")\n",
        "print()\n",
        "print(df.describe())\n",
        "\n"
      ]
    },
    {
      "cell_type": "markdown",
      "metadata": {
        "id": "tpfaJfzfhwc5"
      },
      "source": []
    },
    {
      "cell_type": "markdown",
      "metadata": {
        "id": "P-l0H0pgQqkk"
      },
      "source": [
        "Task 2-EDA"
      ]
    },
    {
      "cell_type": "code",
      "execution_count": 2,
      "metadata": {
        "colab": {
          "base_uri": "https://localhost:8080/"
        },
        "id": "JBqCWbavQrza",
        "outputId": "e4a76682-4f61-44d4-a8fe-3a6567a10476"
      },
      "outputs": [
        {
          "name": "stdout",
          "output_type": "stream",
          "text": [
            "    employee_id                  position  managers_id\n",
            "0          1001         Analytics Manager       1013.0\n",
            "6          1007  Data Engineering Manager       1013.0\n",
            "16         1017      Data Science Manager       1013.0\n",
            "28         2010  Data Engineering Manager       1013.0\n",
            "30         2012         Analytics Manager       1013.0\n",
            "31         2013      Data Science Manager       1013.0\n",
            "32         2014      Data Science Manager       1013.0\n",
            "33         2015         Analytics Manager       1013.0\n",
            "37         2019      Data Science Manager       1013.0\n",
            "38         2020  Data Engineering Manager       1013.0\n",
            "41         2023  Data Engineering Manager       1013.0\n",
            "44         2026      Data Science Manager       1013.0\n",
            "62         2044      Data Science Manager       1013.0\n",
            "72         2054         Analytics Manager       1013.0\n",
            "73         2055  Data Engineering Manager       1013.0\n",
            "83         2065      Data Science Manager       1013.0\n",
            "86         2068         Analytics Manager       1013.0\n",
            "89         2071         Analytics Manager       1013.0\n",
            "92         2074  Data Engineering Manager       1013.0\n",
            "   managers_id  count\n",
            "0       1017.0     28\n",
            "1       1007.0     27\n",
            "2       1001.0     22\n",
            "3       1013.0     19\n"
          ]
        }
      ],
      "source": [
        "managers = df[df['position'].str.contains(\"Manager\")]\n",
        "print(managers)\n",
        "x=df['managers_id'].value_counts().reset_index()\n",
        "print(x)\n"
      ]
    },
    {
      "cell_type": "code",
      "execution_count": 3,
      "metadata": {
        "colab": {
          "base_uri": "https://localhost:8080/"
        },
        "id": "GwBSCVNNUWAs",
        "outputId": "016845a2-f7a8-408a-842d-16225de1f46b"
      },
      "outputs": [
        {
          "name": "stdout",
          "output_type": "stream",
          "text": [
            "managers_id    1017.0\n",
            "count            28.0\n",
            "Name: 0, dtype: float64\n"
          ]
        }
      ],
      "source": [
        "most_direct_report = x.loc[x['count'].idxmax()]\n",
        "\n",
        "print(most_direct_report)"
      ]
    },
    {
      "cell_type": "code",
      "execution_count": 4,
      "metadata": {
        "colab": {
          "base_uri": "https://localhost:8080/",
          "height": 507
        },
        "id": "eHfK60c_Ve0v",
        "outputId": "e603a4f6-9fac-420b-d666-cdc94a5f324a"
      },
      "outputs": [
        {
          "data": {
            "image/png": "[encoded data removed]",
            "text/plain": [
              "<Figure size 640x480 with 1 Axes>"
            ]
          },
          "metadata": {},
          "output_type": "display_data"
        }
      ],
      "source": [
        "import matplotlib.pyplot as plt\n",
        "\n",
        "\n",
        "plt.bar(x['managers_id'].astype(str), x['count'], color='skyblue', edgecolor='black')\n",
        "plt.xlabel(\"Managers\")\n",
        "plt.ylabel(\"Number of Direct Reports\")\n",
        "plt.title(\"Number of Direct Reports for Each Manager\")\n",
        "plt.xticks(rotation=60)\n",
        "\n",
        "plt.show()"
      ]
    },
    {
      "cell_type": "markdown",
      "metadata": {
        "id": "3Ksq9aVCWY14"
      },
      "source": [
        "Part 3"
      ]
    },
    {
      "cell_type": "markdown",
      "metadata": {
        "id": "j7-W0y0jh8Jr"
      },
      "source": [
        "Task 3-Statistics"
      ]
    },
    {
      "cell_type": "code",
      "execution_count": 5,
      "metadata": {
        "colab": {
          "base_uri": "https://localhost:8080/"
        },
        "id": "pNPnOjoVWZ7q",
        "outputId": "2f18dae3-35f0-417e-b7da-d14d36ded445"
      },
      "outputs": [
        {
          "name": "stdout",
          "output_type": "stream",
          "text": [
            "Avg direct report per manager: 24.0\n",
            "median: 24.5\n",
            "mode: 0    19\n",
            "1    22\n",
            "2    27\n",
            "3    28\n",
            "Name: count, dtype: int64\n"
          ]
        }
      ],
      "source": [
        "\n",
        "mean=x['count'].mean()\n",
        "print(\"Avg direct report per manager:\",mean)\n",
        "median=x['count'].median()\n",
        "print(\"median:\",median)\n",
        "mode=x['count'].mode()\n",
        "print(\"mode:\",mode)\n"
      ]
    },
    {
      "cell_type": "code",
      "execution_count": 6,
      "metadata": {
        "colab": {
          "base_uri": "https://localhost:8080/"
        },
        "id": "3CDpjFFgZ2eg",
        "outputId": "c0049d6e-eb68-4b3f-9e7d-d74be3b836c3"
      },
      "outputs": [
        {
          "name": "stdout",
          "output_type": "stream",
          "text": [
            "    employee_id            position  managers_id\n",
            "0          1001   Analytics Manager       1013.0\n",
            "1          1002       Data Engineer       1007.0\n",
            "2          1003       Data Engineer       1001.0\n",
            "3          1004  Database Developer       1017.0\n",
            "4          1005        Data Analyst       1001.0\n",
            "..          ...                 ...          ...\n",
            "95         2077      Data Scientist       1017.0\n",
            "96         2078  Database Developer       1007.0\n",
            "97         2079      Data Scientist       1017.0\n",
            "98         2080      Data Scientist       1017.0\n",
            "99         2081        Data Analyst       1001.0\n",
            "\n",
            "[100 rows x 3 columns]\n",
            "employee_id    0\n",
            "position       0\n",
            "managers_id    0\n",
            "dtype: int64\n"
          ]
        },
        {
          "name": "stderr",
          "output_type": "stream",
          "text": [
            "C:\\Users\\nithi\\AppData\\Local\\Temp\\ipykernel_23832\\1211701475.py:1: FutureWarning: A value is trying to be set on a copy of a DataFrame or Series through chained assignment using an inplace method.\n",
            "The behavior will change in pandas 3.0. This inplace method will never work because the intermediate object on which we are setting values always behaves as a copy.\n",
            "\n",
            "For example, when doing 'df[col].method(value, inplace=True)', try using 'df.method({col: value}, inplace=True)' or df[col] = df[col].method(value) instead, to perform the operation inplace on the original object.\n",
            "\n",
            "\n",
            "  df['managers_id'].fillna(df['managers_id'].mean(), inplace=True)\n"
          ]
        }
      ],
      "source": [
        "df['managers_id'].fillna(df['managers_id'].mean(), inplace=True)\n",
        "\n",
        "print(df)\n",
        "print(df.isnull().sum())"
      ]
    },
    {
      "cell_type": "code",
      "execution_count": 7,
      "metadata": {
        "colab": {
          "base_uri": "https://localhost:8080/"
        },
        "id": "O9IMQkAlc7Df",
        "outputId": "98062502-710c-4806-a7e3-af0da962ae1d"
      },
      "outputs": [
        {
          "name": "stdout",
          "output_type": "stream",
          "text": [
            "Probability: 19.00%\n"
          ]
        }
      ],
      "source": [
        "cto_id = df.loc[df['position'] == 'CTO', 'employee_id'].iloc[0]\n",
        "\n",
        "cto_reports = df[df['managers_id'] == cto_id].shape[0]\n",
        "\n",
        "total_employees = df.shape[0]\n",
        "\n",
        "probability = cto_reports / total_employees\n",
        "print(f\"Probability: {probability:.2%}\")"
      ]
    },
    {
      "cell_type": "markdown",
      "metadata": {
        "id": "Bw7BsF0fjFKk"
      },
      "source": [
        "Part 4-Linear algebra and Numpy"
      ]
    },
    {
      "cell_type": "code",
      "execution_count": 8,
      "metadata": {
        "colab": {
          "base_uri": "https://localhost:8080/"
        },
        "id": "Mo1khjQujDDG",
        "outputId": "d9161527-f566-4654-93da-1dd53b7bc2a5"
      },
      "outputs": [
        {
          "name": "stdout",
          "output_type": "stream",
          "text": [
            "[28 27 22 19]\n",
            "Constant weight vector: [ 2  3  8 11]\n",
            "Vector addition: [30 30 30 30]\n",
            "Vector subtraction: [26 24 14  8]\n",
            "Dot product: 522\n",
            "Cross product: [ 56  81 176 209]\n"
          ]
        }
      ],
      "source": [
        "a=np.array(x['count'])\n",
        "print(a)\n",
        "#Fixing your influencer score as 30\n",
        "b=np.array(30-a)\n",
        "print(\"Constant weight vector:\",b)\n",
        "\n",
        "print(\"Vector addition:\",a+b)\n",
        "\n",
        "print(\"Vector subtraction:\",a-b)\n",
        "print(\"Dot product:\",np.dot(a,b))\n",
        "print(\"Cross product:\",a*b)\n",
        "\n",
        "\n"
      ]
    },
    {
      "cell_type": "markdown",
      "metadata": {
        "id": "Ud1WcyAqq9tw"
      },
      "source": [
        "Part 5-Calculus"
      ]
    },
    {
      "cell_type": "code",
      "execution_count": 9,
      "metadata": {
        "colab": {
          "base_uri": "https://localhost:8080/"
        },
        "id": "-TlrXS2cq5yM",
        "outputId": "bfa21120-6038-4b3f-8087-e24ecbed11bf"
      },
      "outputs": [
        {
          "name": "stdout",
          "output_type": "stream",
          "text": [
            "efficiency/exp\n",
            "Derivative values (dP/da): [0.11111111 0.17647059 0.66666667 1.22222222]\n"
          ]
        }
      ],
      "source": [
        "import sympy as sp\n",
        "\n",
        "direct_rep,efficiency,exp = sp.symbols('direct_rep efficiency exp')\n",
        "\n",
        "pr=(direct_rep*efficiency)/exp\n",
        "derivative=sp.diff(pr,direct_rep)\n",
        "print(derivative)\n",
        "\n",
        "#interpret the derivative\n",
        "import numpy as np\n",
        "direct_rep = np.array([28, 27, 22, 19])\n",
        "efficiency = np.array([2, 3, 8, 11])\n",
        "exp = np.array(direct_rep-10)\n",
        "\n",
        "\n",
        "\n",
        "derivative_values = efficiency / exp\n",
        "\n",
        "print(\"Derivative values (dP/da):\", derivative_values)\n"
      ]
    },
    {
      "cell_type": "markdown",
      "metadata": {
        "id": "2FXehCqs0Y9r"
      },
      "source": [
        "Task 6-Feature Engineering"
      ]
    },
    {
      "cell_type": "code",
      "execution_count": 10,
      "metadata": {
        "colab": {
          "base_uri": "https://localhost:8080/"
        },
        "id": "tPepSB6j0Z0R",
        "outputId": "73bba3fd-03c9-4c4a-ea84-02063ebc907e"
      },
      "outputs": [
        {
          "name": "stdout",
          "output_type": "stream",
          "text": [
            "    employee_id            position  managers_id  count\n",
            "0          1001   Analytics Manager       1013.0     19\n",
            "1          1002       Data Engineer       1007.0     27\n",
            "2          1003       Data Engineer       1001.0     22\n",
            "3          1004  Database Developer       1017.0     28\n",
            "4          1005        Data Analyst       1001.0     22\n",
            "..          ...                 ...          ...    ...\n",
            "95         2077      Data Scientist       1017.0     28\n",
            "96         2078  Database Developer       1007.0     27\n",
            "97         2079      Data Scientist       1017.0     28\n",
            "98         2080      Data Scientist       1017.0     28\n",
            "99         2081        Data Analyst       1001.0     22\n",
            "\n",
            "[100 rows x 4 columns]\n"
          ]
        }
      ],
      "source": [
        "direct_reports = df.groupby('managers_id').size().reset_index(name='count')\n",
        "\n",
        "\n",
        "df = df.merge(direct_reports, on='managers_id', how='left')\n",
        "\n",
        "print(df)"
      ]
    },
    {
      "cell_type": "code",
      "execution_count": 11,
      "metadata": {
        "colab": {
          "base_uri": "https://localhost:8080/"
        },
        "id": "yFeOZwLt09ck",
        "outputId": "a2e87153-fd9c-4570-99c7-3a138651256b"
      },
      "outputs": [
        {
          "name": "stdout",
          "output_type": "stream",
          "text": [
            "    employee_id            position  managers_id  count  Is_Manager\n",
            "0          1001   Analytics Manager       1013.0     19           1\n",
            "1          1002       Data Engineer       1007.0     27           0\n",
            "2          1003       Data Engineer       1001.0     22           0\n",
            "3          1004  Database Developer       1017.0     28           0\n",
            "4          1005        Data Analyst       1001.0     22           0\n",
            "..          ...                 ...          ...    ...         ...\n",
            "95         2077      Data Scientist       1017.0     28           0\n",
            "96         2078  Database Developer       1007.0     27           0\n",
            "97         2079      Data Scientist       1017.0     28           0\n",
            "98         2080      Data Scientist       1017.0     28           0\n",
            "99         2081        Data Analyst       1001.0     22           0\n",
            "\n",
            "[100 rows x 5 columns]\n"
          ]
        }
      ],
      "source": [
        "df['Is_Manager'] = df['position'].str.contains('Manager', case=False, na=False).astype(int)\n",
        "\n",
        "print(df)"
      ]
    },
    {
      "cell_type": "code",
      "execution_count": 12,
      "metadata": {
        "colab": {
          "base_uri": "https://localhost:8080/"
        },
        "id": "1l2XilMc2LH8",
        "outputId": "56e1280a-e881-4bd2-d4ce-00c5737433f8"
      },
      "outputs": [
        {
          "name": "stdout",
          "output_type": "stream",
          "text": [
            "24.0\n",
            "    employee_id            position  managers_id  count  Is_Manager  \\\n",
            "0          1001   Analytics Manager       1013.0     19           1   \n",
            "1          1002       Data Engineer       1007.0     27           0   \n",
            "2          1003       Data Engineer       1001.0     22           0   \n",
            "3          1004  Database Developer       1017.0     28           0   \n",
            "4          1005        Data Analyst       1001.0     22           0   \n",
            "..          ...                 ...          ...    ...         ...   \n",
            "95         2077      Data Scientist       1017.0     28           0   \n",
            "96         2078  Database Developer       1007.0     27           0   \n",
            "97         2079      Data Scientist       1017.0     28           0   \n",
            "98         2080      Data Scientist       1017.0     28           0   \n",
            "99         2081        Data Analyst       1001.0     22           0   \n",
            "\n",
            "    High_team_size  \n",
            "0                0  \n",
            "1                1  \n",
            "2                0  \n",
            "3                1  \n",
            "4                0  \n",
            "..             ...  \n",
            "95               1  \n",
            "96               1  \n",
            "97               1  \n",
            "98               1  \n",
            "99               0  \n",
            "\n",
            "[100 rows x 6 columns]\n"
          ]
        }
      ],
      "source": [
        "avg_direct_rep=(direct_rep.mean())\n",
        "print(avg_direct_rep)\n",
        "df['High_team_size']= (df['count'] > avg_direct_rep).astype(int)\n",
        "print(df)"
      ]
    },
    {
      "cell_type": "markdown",
      "metadata": {
        "id": "68HWfy5E32Sv"
      },
      "source": [
        "create a ranking"
      ]
    },
    {
      "cell_type": "code",
      "execution_count": 13,
      "metadata": {
        "colab": {
          "base_uri": "https://localhost:8080/"
        },
        "id": "6QaAKAGa34fA",
        "outputId": "5cb9f79e-8909-4d08-e470-f9096b95a386"
      },
      "outputs": [
        {
          "name": "stdout",
          "output_type": "stream",
          "text": [
            "    employee_id            position  managers_id  count  Is_Manager  \\\n",
            "0          1001   Analytics Manager       1013.0     19           1   \n",
            "1          1002       Data Engineer       1007.0     27           0   \n",
            "2          1003       Data Engineer       1001.0     22           0   \n",
            "3          1004  Database Developer       1017.0     28           0   \n",
            "4          1005        Data Analyst       1001.0     22           0   \n",
            "..          ...                 ...          ...    ...         ...   \n",
            "95         2077      Data Scientist       1017.0     28           0   \n",
            "96         2078  Database Developer       1007.0     27           0   \n",
            "97         2079      Data Scientist       1017.0     28           0   \n",
            "98         2080      Data Scientist       1017.0     28           0   \n",
            "99         2081        Data Analyst       1001.0     22           0   \n",
            "\n",
            "    High_team_size  Manager_Rank  \n",
            "0                0           4.0  \n",
            "1                1           2.0  \n",
            "2                0           3.0  \n",
            "3                1           1.0  \n",
            "4                0           3.0  \n",
            "..             ...           ...  \n",
            "95               1           1.0  \n",
            "96               1           2.0  \n",
            "97               1           1.0  \n",
            "98               1           1.0  \n",
            "99               0           3.0  \n",
            "\n",
            "[100 rows x 7 columns]\n"
          ]
        }
      ],
      "source": [
        "\n",
        "df['Manager_Rank'] = df['count'].rank(method='dense', ascending=False)\n",
        "print(df)\n"
      ]
    },
    {
      "cell_type": "markdown",
      "metadata": {
        "id": "wHcPEiGmDcUD"
      },
      "source": [
        "Task 7-SQL simluation in pandas"
      ]
    },
    {
      "cell_type": "code",
      "execution_count": 14,
      "metadata": {
        "colab": {
          "base_uri": "https://localhost:8080/"
        },
        "id": "mBfG9V-NDe6k",
        "outputId": "e6bf0e94-ac6f-4023-8a6e-712afd29c2b0"
      },
      "outputs": [
        {
          "name": "stdout",
          "output_type": "stream",
          "text": [
            "    employee_id                  position  managers_id  count  Is_Manager  \\\n",
            "0          1001         Analytics Manager       1013.0     19           1   \n",
            "6          1007  Data Engineering Manager       1013.0     19           1   \n",
            "16         1017      Data Science Manager       1013.0     19           1   \n",
            "28         2010  Data Engineering Manager       1013.0     19           1   \n",
            "30         2012         Analytics Manager       1013.0     19           1   \n",
            "31         2013      Data Science Manager       1013.0     19           1   \n",
            "32         2014      Data Science Manager       1013.0     19           1   \n",
            "33         2015         Analytics Manager       1013.0     19           1   \n",
            "37         2019      Data Science Manager       1013.0     19           1   \n",
            "38         2020  Data Engineering Manager       1013.0     19           1   \n",
            "41         2023  Data Engineering Manager       1013.0     19           1   \n",
            "44         2026      Data Science Manager       1013.0     19           1   \n",
            "62         2044      Data Science Manager       1013.0     19           1   \n",
            "72         2054         Analytics Manager       1013.0     19           1   \n",
            "73         2055  Data Engineering Manager       1013.0     19           1   \n",
            "83         2065      Data Science Manager       1013.0     19           1   \n",
            "86         2068         Analytics Manager       1013.0     19           1   \n",
            "89         2071         Analytics Manager       1013.0     19           1   \n",
            "92         2074  Data Engineering Manager       1013.0     19           1   \n",
            "\n",
            "    High_team_size  Manager_Rank  \n",
            "0                0           4.0  \n",
            "6                0           4.0  \n",
            "16               0           4.0  \n",
            "28               0           4.0  \n",
            "30               0           4.0  \n",
            "31               0           4.0  \n",
            "32               0           4.0  \n",
            "33               0           4.0  \n",
            "37               0           4.0  \n",
            "38               0           4.0  \n",
            "41               0           4.0  \n",
            "44               0           4.0  \n",
            "62               0           4.0  \n",
            "72               0           4.0  \n",
            "73               0           4.0  \n",
            "83               0           4.0  \n",
            "86               0           4.0  \n",
            "89               0           4.0  \n",
            "92               0           4.0  \n"
          ]
        }
      ],
      "source": [
        "df1=df[(df['count']>3)&(df['Is_Manager']==1)]\n",
        "print(df1)\n"
      ]
    },
    {
      "cell_type": "code",
      "execution_count": 15,
      "metadata": {
        "colab": {
          "base_uri": "https://localhost:8080/"
        },
        "id": "fLXxMSgqEsGK",
        "outputId": "2e18fbb0-22fd-4b10-e111-eb50febb96aa"
      },
      "outputs": [
        {
          "name": "stdout",
          "output_type": "stream",
          "text": [
            "    employee_id                  position  managers_id  count  Is_Manager  \\\n",
            "0          1001         Analytics Manager       1013.0     19           1   \n",
            "6          1007  Data Engineering Manager       1013.0     19           1   \n",
            "16         1017      Data Science Manager       1013.0     19           1   \n",
            "28         2010  Data Engineering Manager       1013.0     19           1   \n",
            "30         2012         Analytics Manager       1013.0     19           1   \n",
            "31         2013      Data Science Manager       1013.0     19           1   \n",
            "32         2014      Data Science Manager       1013.0     19           1   \n",
            "33         2015         Analytics Manager       1013.0     19           1   \n",
            "37         2019      Data Science Manager       1013.0     19           1   \n",
            "38         2020  Data Engineering Manager       1013.0     19           1   \n",
            "41         2023  Data Engineering Manager       1013.0     19           1   \n",
            "44         2026      Data Science Manager       1013.0     19           1   \n",
            "62         2044      Data Science Manager       1013.0     19           1   \n",
            "72         2054         Analytics Manager       1013.0     19           1   \n",
            "73         2055  Data Engineering Manager       1013.0     19           1   \n",
            "83         2065      Data Science Manager       1013.0     19           1   \n",
            "86         2068         Analytics Manager       1013.0     19           1   \n",
            "89         2071         Analytics Manager       1013.0     19           1   \n",
            "92         2074  Data Engineering Manager       1013.0     19           1   \n",
            "\n",
            "    High_team_size  Manager_Rank  \n",
            "0                0           4.0  \n",
            "6                0           4.0  \n",
            "16               0           4.0  \n",
            "28               0           4.0  \n",
            "30               0           4.0  \n",
            "31               0           4.0  \n",
            "32               0           4.0  \n",
            "33               0           4.0  \n",
            "37               0           4.0  \n",
            "38               0           4.0  \n",
            "41               0           4.0  \n",
            "44               0           4.0  \n",
            "62               0           4.0  \n",
            "72               0           4.0  \n",
            "73               0           4.0  \n",
            "83               0           4.0  \n",
            "86               0           4.0  \n",
            "89               0           4.0  \n",
            "92               0           4.0  \n"
          ]
        }
      ],
      "source": [
        "df1['count'].sort_values(ascending=False)\n",
        "df1['employee_id'].sort_values(ascending=True)\n",
        "print(df1)"
      ]
    },
    {
      "cell_type": "code",
      "execution_count": 16,
      "metadata": {
        "colab": {
          "base_uri": "https://localhost:8080/"
        },
        "id": "MONAYn-hGdW_",
        "outputId": "3ffc47f6-63d8-494b-fc20-ee1ad2d6f369"
      },
      "outputs": [
        {
          "name": "stdout",
          "output_type": "stream",
          "text": [
            "   managers_id  Total_Employees\n",
            "0  1001.000000               22\n",
            "1  1007.000000               27\n",
            "2  1009.729167                4\n",
            "3  1013.000000               19\n",
            "4  1017.000000               28\n"
          ]
        }
      ],
      "source": [
        "\n",
        "total_employees_per_manager = df.groupby('managers_id').size().reset_index(name='Total_Employees')\n",
        "\n",
        "print(total_employees_per_manager)\n"
      ]
    },
    {
      "cell_type": "markdown",
      "metadata": {
        "id": "YHh4CriviztF"
      },
      "source": [
        "Task 8-Insights"
      ]
    },
    {
      "cell_type": "code",
      "execution_count": 17,
      "metadata": {
        "colab": {
          "base_uri": "https://localhost:8080/"
        },
        "id": "rZKhj8vVGz0C",
        "outputId": "950968b6-f6c7-4eab-9df1-aa8f70ea674e"
      },
      "outputs": [
        {
          "name": "stdout",
          "output_type": "stream",
          "text": [
            "managers_id        1017.0\n",
            "Total_Employees      28.0\n",
            "Name: 4, dtype: float64\n"
          ]
        }
      ],
      "source": [
        "largest_team=total_employees_per_manager.loc[total_employees_per_manager['Total_Employees'].idxmax()]\n",
        "print(largest_team)\n",
        "df['high_team_size']= total_employees"
      ]
    },
    {
      "cell_type": "code",
      "execution_count": 18,
      "metadata": {
        "colab": {
          "base_uri": "https://localhost:8080/"
        },
        "id": "kfgKXZfzHGvD",
        "outputId": "86d10334-a64f-4ebd-a66f-aa263495a206"
      },
      "outputs": [
        {
          "name": "stdout",
          "output_type": "stream",
          "text": [
            "20.0\n"
          ]
        }
      ],
      "source": [
        "avg_team_size=total_employees_per_manager['Total_Employees'].mean()\n",
        "print(avg_team_size)"
      ]
    },
    {
      "cell_type": "code",
      "execution_count": 19,
      "metadata": {
        "colab": {
          "base_uri": "https://localhost:8080/"
        },
        "id": "xS3vzaqAHLz0",
        "outputId": "d4761395-d6b4-4a14-9359-4c07e3d3487a"
      },
      "outputs": [
        {
          "name": "stdout",
          "output_type": "stream",
          "text": [
            "   managers_id  Total_Employees\n",
            "2  1009.729167                4\n",
            "3  1013.000000               19\n"
          ]
        }
      ],
      "source": [
        "below_avg_team_size=total_employees_per_manager[total_employees_per_manager['Total_Employees']<avg_team_size]\n",
        "print(below_avg_team_size)"
      ]
    },
    {
      "cell_type": "code",
      "execution_count": 20,
      "metadata": {
        "colab": {
          "base_uri": "https://localhost:8080/"
        },
        "collapsed": true,
        "id": "anE7dvH-MRew",
        "outputId": "945c18a6-b928-469f-aeaf-c5d6255747dc"
      },
      "outputs": [
        {
          "name": "stdout",
          "output_type": "stream",
          "text": [
            "-0.43022990493089136\n"
          ]
        }
      ],
      "source": [
        "corr = df['count'].corr(df['Is_Manager'])\n",
        "print(corr)"
      ]
    },
    {
      "cell_type": "code",
      "execution_count": 21,
      "metadata": {
        "id": "cdZVN-W7OhMG"
      },
      "outputs": [],
      "source": [
        "df.to_csv('report analysis1.csv',index=False)"
      ]
    },
    {
      "cell_type": "code",
      "execution_count": 22,
      "metadata": {
        "id": "BtQ7Mk6EO8p4"
      },
      "outputs": [],
      "source": [
        "df.drop('high_team_size',axis=1,inplace=True)"
      ]
    },
    {
      "cell_type": "code",
      "execution_count": 23,
      "metadata": {
        "id": "LQE2qpTYPctI"
      },
      "outputs": [],
      "source": [
        "df.to_csv('report.csv',index=False)"
      ]
    },
    {
      "cell_type": "code",
      "execution_count": 24,
      "metadata": {
        "colab": {
          "base_uri": "https://localhost:8080/",
          "height": 739
        },
        "id": "n0ZzrvWJnWyP",
        "outputId": "d02be58e-3395-4b10-fdfa-d1ff3ccd0047"
      },
      "outputs": [
        {
          "data": {
            "text/html": [
              "<div>\n",
              "<style scoped>\n",
              "    .dataframe tbody tr th:only-of-type {\n",
              "        vertical-align: middle;\n",
              "    }\n",
              "\n",
              "    .dataframe tbody tr th {\n",
              "        vertical-align: top;\n",
              "    }\n",
              "\n",
              "    .dataframe thead th {\n",
              "        text-align: right;\n",
              "    }\n",
              "</style>\n",
              "<table border=\"1\" class=\"dataframe\">\n",
              "  <thead>\n",
              "    <tr style=\"text-align: right;\">\n",
              "      <th></th>\n",
              "      <th>employee_id</th>\n",
              "      <th>position</th>\n",
              "      <th>managers_id</th>\n",
              "      <th>count</th>\n",
              "      <th>Is_Manager</th>\n",
              "      <th>High_team_size</th>\n",
              "      <th>Manager_Rank</th>\n",
              "    </tr>\n",
              "  </thead>\n",
              "  <tbody>\n",
              "    <tr>\n",
              "      <th>2</th>\n",
              "      <td>1003</td>\n",
              "      <td>Data Engineer</td>\n",
              "      <td>1001.0</td>\n",
              "      <td>22</td>\n",
              "      <td>0</td>\n",
              "      <td>0</td>\n",
              "      <td>3.0</td>\n",
              "    </tr>\n",
              "    <tr>\n",
              "      <th>4</th>\n",
              "      <td>1005</td>\n",
              "      <td>Data Analyst</td>\n",
              "      <td>1001.0</td>\n",
              "      <td>22</td>\n",
              "      <td>0</td>\n",
              "      <td>0</td>\n",
              "      <td>3.0</td>\n",
              "    </tr>\n",
              "    <tr>\n",
              "      <th>7</th>\n",
              "      <td>1008</td>\n",
              "      <td>Database Developer</td>\n",
              "      <td>1001.0</td>\n",
              "      <td>22</td>\n",
              "      <td>0</td>\n",
              "      <td>0</td>\n",
              "      <td>3.0</td>\n",
              "    </tr>\n",
              "    <tr>\n",
              "      <th>10</th>\n",
              "      <td>1011</td>\n",
              "      <td>Data Analyst</td>\n",
              "      <td>1001.0</td>\n",
              "      <td>22</td>\n",
              "      <td>0</td>\n",
              "      <td>0</td>\n",
              "      <td>3.0</td>\n",
              "    </tr>\n",
              "    <tr>\n",
              "      <th>14</th>\n",
              "      <td>1015</td>\n",
              "      <td>Data Analyst</td>\n",
              "      <td>1001.0</td>\n",
              "      <td>22</td>\n",
              "      <td>0</td>\n",
              "      <td>0</td>\n",
              "      <td>3.0</td>\n",
              "    </tr>\n",
              "    <tr>\n",
              "      <th>18</th>\n",
              "      <td>1019</td>\n",
              "      <td>Data Analyst</td>\n",
              "      <td>1001.0</td>\n",
              "      <td>22</td>\n",
              "      <td>0</td>\n",
              "      <td>0</td>\n",
              "      <td>3.0</td>\n",
              "    </tr>\n",
              "    <tr>\n",
              "      <th>19</th>\n",
              "      <td>2001</td>\n",
              "      <td>Database Developer</td>\n",
              "      <td>1001.0</td>\n",
              "      <td>22</td>\n",
              "      <td>0</td>\n",
              "      <td>0</td>\n",
              "      <td>3.0</td>\n",
              "    </tr>\n",
              "    <tr>\n",
              "      <th>21</th>\n",
              "      <td>2003</td>\n",
              "      <td>Data Analyst</td>\n",
              "      <td>1001.0</td>\n",
              "      <td>22</td>\n",
              "      <td>0</td>\n",
              "      <td>0</td>\n",
              "      <td>3.0</td>\n",
              "    </tr>\n",
              "    <tr>\n",
              "      <th>25</th>\n",
              "      <td>2007</td>\n",
              "      <td>Data Engineer</td>\n",
              "      <td>1001.0</td>\n",
              "      <td>22</td>\n",
              "      <td>0</td>\n",
              "      <td>0</td>\n",
              "      <td>3.0</td>\n",
              "    </tr>\n",
              "    <tr>\n",
              "      <th>34</th>\n",
              "      <td>2016</td>\n",
              "      <td>Database Developer</td>\n",
              "      <td>1001.0</td>\n",
              "      <td>22</td>\n",
              "      <td>0</td>\n",
              "      <td>0</td>\n",
              "      <td>3.0</td>\n",
              "    </tr>\n",
              "    <tr>\n",
              "      <th>35</th>\n",
              "      <td>2017</td>\n",
              "      <td>Data Analyst</td>\n",
              "      <td>1001.0</td>\n",
              "      <td>22</td>\n",
              "      <td>0</td>\n",
              "      <td>0</td>\n",
              "      <td>3.0</td>\n",
              "    </tr>\n",
              "    <tr>\n",
              "      <th>39</th>\n",
              "      <td>2021</td>\n",
              "      <td>Data Engineer</td>\n",
              "      <td>1001.0</td>\n",
              "      <td>22</td>\n",
              "      <td>0</td>\n",
              "      <td>0</td>\n",
              "      <td>3.0</td>\n",
              "    </tr>\n",
              "    <tr>\n",
              "      <th>48</th>\n",
              "      <td>2030</td>\n",
              "      <td>Data Analyst</td>\n",
              "      <td>1001.0</td>\n",
              "      <td>22</td>\n",
              "      <td>0</td>\n",
              "      <td>0</td>\n",
              "      <td>3.0</td>\n",
              "    </tr>\n",
              "    <tr>\n",
              "      <th>49</th>\n",
              "      <td>2031</td>\n",
              "      <td>Data Analyst</td>\n",
              "      <td>1001.0</td>\n",
              "      <td>22</td>\n",
              "      <td>0</td>\n",
              "      <td>0</td>\n",
              "      <td>3.0</td>\n",
              "    </tr>\n",
              "    <tr>\n",
              "      <th>52</th>\n",
              "      <td>2034</td>\n",
              "      <td>Database Developer</td>\n",
              "      <td>1001.0</td>\n",
              "      <td>22</td>\n",
              "      <td>0</td>\n",
              "      <td>0</td>\n",
              "      <td>3.0</td>\n",
              "    </tr>\n",
              "    <tr>\n",
              "      <th>56</th>\n",
              "      <td>2038</td>\n",
              "      <td>Data Analyst</td>\n",
              "      <td>1001.0</td>\n",
              "      <td>22</td>\n",
              "      <td>0</td>\n",
              "      <td>0</td>\n",
              "      <td>3.0</td>\n",
              "    </tr>\n",
              "    <tr>\n",
              "      <th>57</th>\n",
              "      <td>2039</td>\n",
              "      <td>Database Developer</td>\n",
              "      <td>1001.0</td>\n",
              "      <td>22</td>\n",
              "      <td>0</td>\n",
              "      <td>0</td>\n",
              "      <td>3.0</td>\n",
              "    </tr>\n",
              "    <tr>\n",
              "      <th>58</th>\n",
              "      <td>2040</td>\n",
              "      <td>Data Engineer</td>\n",
              "      <td>1001.0</td>\n",
              "      <td>22</td>\n",
              "      <td>0</td>\n",
              "      <td>0</td>\n",
              "      <td>3.0</td>\n",
              "    </tr>\n",
              "    <tr>\n",
              "      <th>68</th>\n",
              "      <td>2050</td>\n",
              "      <td>Database Developer</td>\n",
              "      <td>1001.0</td>\n",
              "      <td>22</td>\n",
              "      <td>0</td>\n",
              "      <td>0</td>\n",
              "      <td>3.0</td>\n",
              "    </tr>\n",
              "    <tr>\n",
              "      <th>74</th>\n",
              "      <td>2056</td>\n",
              "      <td>Data Analyst</td>\n",
              "      <td>1001.0</td>\n",
              "      <td>22</td>\n",
              "      <td>0</td>\n",
              "      <td>0</td>\n",
              "      <td>3.0</td>\n",
              "    </tr>\n",
              "    <tr>\n",
              "      <th>82</th>\n",
              "      <td>2064</td>\n",
              "      <td>Data Analyst</td>\n",
              "      <td>1001.0</td>\n",
              "      <td>22</td>\n",
              "      <td>0</td>\n",
              "      <td>0</td>\n",
              "      <td>3.0</td>\n",
              "    </tr>\n",
              "    <tr>\n",
              "      <th>99</th>\n",
              "      <td>2081</td>\n",
              "      <td>Data Analyst</td>\n",
              "      <td>1001.0</td>\n",
              "      <td>22</td>\n",
              "      <td>0</td>\n",
              "      <td>0</td>\n",
              "      <td>3.0</td>\n",
              "    </tr>\n",
              "  </tbody>\n",
              "</table>\n",
              "</div>"
            ],
            "text/plain": [
              "    employee_id            position  managers_id  count  Is_Manager  \\\n",
              "2          1003       Data Engineer       1001.0     22           0   \n",
              "4          1005        Data Analyst       1001.0     22           0   \n",
              "7          1008  Database Developer       1001.0     22           0   \n",
              "10         1011        Data Analyst       1001.0     22           0   \n",
              "14         1015        Data Analyst       1001.0     22           0   \n",
              "18         1019        Data Analyst       1001.0     22           0   \n",
              "19         2001  Database Developer       1001.0     22           0   \n",
              "21         2003        Data Analyst       1001.0     22           0   \n",
              "25         2007       Data Engineer       1001.0     22           0   \n",
              "34         2016  Database Developer       1001.0     22           0   \n",
              "35         2017        Data Analyst       1001.0     22           0   \n",
              "39         2021       Data Engineer       1001.0     22           0   \n",
              "48         2030        Data Analyst       1001.0     22           0   \n",
              "49         2031        Data Analyst       1001.0     22           0   \n",
              "52         2034  Database Developer       1001.0     22           0   \n",
              "56         2038        Data Analyst       1001.0     22           0   \n",
              "57         2039  Database Developer       1001.0     22           0   \n",
              "58         2040       Data Engineer       1001.0     22           0   \n",
              "68         2050  Database Developer       1001.0     22           0   \n",
              "74         2056        Data Analyst       1001.0     22           0   \n",
              "82         2064        Data Analyst       1001.0     22           0   \n",
              "99         2081        Data Analyst       1001.0     22           0   \n",
              "\n",
              "    High_team_size  Manager_Rank  \n",
              "2                0           3.0  \n",
              "4                0           3.0  \n",
              "7                0           3.0  \n",
              "10               0           3.0  \n",
              "14               0           3.0  \n",
              "18               0           3.0  \n",
              "19               0           3.0  \n",
              "21               0           3.0  \n",
              "25               0           3.0  \n",
              "34               0           3.0  \n",
              "35               0           3.0  \n",
              "39               0           3.0  \n",
              "48               0           3.0  \n",
              "49               0           3.0  \n",
              "52               0           3.0  \n",
              "56               0           3.0  \n",
              "57               0           3.0  \n",
              "58               0           3.0  \n",
              "68               0           3.0  \n",
              "74               0           3.0  \n",
              "82               0           3.0  \n",
              "99               0           3.0  "
            ]
          },
          "execution_count": 24,
          "metadata": {},
          "output_type": "execute_result"
        }
      ],
      "source": [
        "\n",
        " df[df['managers_id'] == 1001]\n"
      ]
    }
  ],
  "metadata": {
    "colab": {
      "provenance": []
    },
    "kernelspec": {
      "display_name": "Python (base)",
      "language": "python",
      "name": "base"
    },
    "language_info": {
      "codemirror_mode": {
        "name": "ipython",
        "version": 3
      },
      "file_extension": ".py",
      "mimetype": "text/x-python",
      "name": "python",
      "nbconvert_exporter": "python",
      "pygments_lexer": "ipython3",
      "version": "3.13.5"
    }
  },
  "nbformat": 4,
  "nbformat_minor": 0
}
